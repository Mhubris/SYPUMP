{
 "cells": [
  {
   "cell_type": "code",
   "execution_count": 2,
   "metadata": {},
   "outputs": [],
   "source": [
    "# Imports\n",
    "from matplotlib import pyplot as plt\n",
    "from math import e, pi\n",
    "import numpy as np"
   ]
  },
  {
   "cell_type": "code",
   "execution_count": 1,
   "metadata": {},
   "outputs": [],
   "source": [
    "# Define Constants\n",
    "bandwidth_freq = list(range(1000,100000000,100))\n",
    "vaccum_permittivity = 8.85E-12\n",
    "\n",
    "sc_data = {\"epsilon_inf\": 4.4093, \"sigma_dc\": 0.188, \"delta_epsilon_1\": 40.6,\n",
    "          \"tau_1\": 35E-12, \"alfa_1\": 0, \"delta_epsilon_2\": 195, \"tau_2\": 2.58E-9,\n",
    "           \"alfa_2\":0, \"order\": 2}\n",
    "ed_data = {\"epsilon_inf\": 4, \"sigma_dc\": 0.7, \"delta_epsilon_1\": 56,\n",
    "          \"tau_1\": 8.38E-12, \"alfa_1\": 0.1, \"delta_epsilon_2\": 5200, \"tau_2\": 132.6E-9,\n",
    "           \"alfa_2\":0.1, \"order\": 2}\n",
    "hyp_data = {\"epsilon_inf\": 2.5, \"sigma_dc\": 0.035, \"delta_epsilon_1\": 9,\n",
    "          \"tau_1\": 79.6E-12, \"alfa_1\": 0.2, \"delta_epsilon_2\": 35, \"tau_2\": 15.92E-9,\n",
    "           \"alfa_2\":0.1, \"delta_epsilon_3\":33000, \"tau_3\":159E-12, \"alfa_3\":0.05, \"delta_epsilon_4\": 10^7\n",
    "            , \"tau_4\": 15.9E-12, \"alfa_4\":0.01 , \"order\": 4}"
   ]
  },
  {
   "cell_type": "code",
   "execution_count": 3,
   "metadata": {},
   "outputs": [],
   "source": [
    "def sc_complex_permitivity(freq = 100):\n",
    "    sum_permitivity = sc_data[\"epsilon_inf\"]\n",
    "    for x in range(1,sc_data[\"order\"]+1):\n",
    "        sum_permitivity+=sc_data[\"delta_epsilon_\"+str(x)]/(1+(freq*sc_data[\"tau_\"+str(x)])*1j)\n",
    "    sum_permitivity+=sc_data[\"sigma_dc\"]/(freq*vaccum_permittivity*1j)\n",
    "    return sum_permitivity"
   ]
  },
  {
   "cell_type": "code",
   "execution_count": 4,
   "metadata": {},
   "outputs": [],
   "source": [
    "def ed_complex_permitivity(freq = 100):\n",
    "    sum_permitivity = ed_data[\"epsilon_inf\"]\n",
    "    for x in range(1,ed_data[\"order\"]+1):\n",
    "        sum_permitivity+=ed_data[\"delta_epsilon_\"+str(x)]/(1+(freq*ed_data[\"tau_\"+str(x)])*1j)\n",
    "    sum_permitivity+=ed_data[\"sigma_dc\"]/(freq*vaccum_permittivity*1j)\n",
    "    return sum_permitivity"
   ]
  },
  {
   "cell_type": "code",
   "execution_count": 5,
   "metadata": {},
   "outputs": [],
   "source": [
    "def hyp_complex_permitivity(freq = 100):\n",
    "    sum_permitivity = hyp_data[\"epsilon_inf\"]\n",
    "    for x in range(1,hyp_data[\"order\"]+1):\n",
    "        sum_permitivity+=hyp_data[\"delta_epsilon_\"+str(x)]/(1+(freq*hyp_data[\"tau_\"+str(x)])*1j)\n",
    "    sum_permitivity+=hyp_data[\"sigma_dc\"]/(freq*vaccum_permittivity*1j)\n",
    "    return sum_permitivity"
   ]
  },
  {
   "cell_type": "code",
   "execution_count": 8,
   "metadata": {},
   "outputs": [
    {
     "data": {
      "image/png": "[encoded data removed]",
      "text/plain": [
       "<Figure size 432x288 with 1 Axes>"
      ]
     },
     "metadata": {
      "needs_background": "light"
     },
     "output_type": "display_data"
    }
   ],
   "source": [
    "plt.loglog(bandwidth_freq,[ed_complex_permitivity(i*2*pi).real for i in bandwidth_freq], basex=10, basey=10)\n",
    "plt.grid()\n",
    "plt.show()"
   ]
  },
  {
   "cell_type": "code",
   "execution_count": 6,
   "metadata": {},
   "outputs": [
    {
     "name": "stdout",
     "output_type": "stream",
     "text": [
      "(240.0092475252667-105653.8065998127j)\n",
      "(5256.306471123269-393529.99322624155j)\n",
      "(33059.49960767204-19670.739957229947j)\n"
     ]
    }
   ],
   "source": [
    "print(sc_complex_permitivity(32000*2*pi))\n",
    "print(ed_complex_permitivity(32000*2*pi))\n",
    "print(hyp_complex_permitivity(32000*2*pi))"
   ]
  },
  {
   "cell_type": "code",
   "execution_count": 57,
   "metadata": {},
   "outputs": [
    {
     "name": "stdout",
     "output_type": "stream",
     "text": [
      "(5.228585545082456-0.10570048371532287j)\n",
      "-0.0202158849279487\n"
     ]
    }
   ],
   "source": [
    "# Dieletric properties of FR4\n",
    "# Calculations based on: Wideband frequency-domain characterization of FR-4 and time-domain causality\n",
    "\n",
    "# Matrix where first column define omega_i and the second one delta_epsilon_i\n",
    "dispersion_parameters = [[20E3, 0.12],[200E3, 0.14],[2E6, 0.22],[20E6, 0.18], [200E6, 0.12], [2E9,0.10], [20E9, 0.10], \n",
    "                         [200E9, 0.24]]\n",
    "\n",
    "epsilon_inf = 4.20\n",
    "sigma = 80E-12\n",
    "\n",
    "\n",
    "def dispersions_sum(i, w=32E3*2*pi):\n",
    "    return dispersion_parameters[i][1]/(1+1j*(w/dispersion_parameters[i][0]))\n",
    "\n",
    "def dieletric_relative_complex_fr4(w=32E3*2*pi):\n",
    "    return  epsilon_inf + np.array([dispersions_sum(i,w) for i in range(0,len(dispersion_parameters))]).sum()- 1j*(sigma/(w*vaccum_permittivity))\n",
    "\n",
    "print(dieletric_relative_complex_fr4())\n",
    "\n",
    "tangent_loss = dieletric_relative_complex_fr4().imag / dieletric_relative_complex_fr4().real\n",
    "print(tangent_loss)"
   ]
  },
  {
   "cell_type": "code",
   "execution_count": null,
   "metadata": {},
   "outputs": [],
   "source": [
    "# Plot graphs from fr4\n",
    "plt.loglog(bandwidth_freq,[dieletric_relative_complex_fr4(i).real for i in bandwidth_freq], basex=10, basey=10)\n",
    "plt.grid()\n",
    "plt.show()"
   ]
  }
 ],
 "metadata": {
  "kernelspec": {
   "display_name": "Python 3",
   "language": "python",
   "name": "python3"
  },
  "language_info": {
   "codemirror_mode": {
    "name": "ipython",
    "version": 3
   },
   "file_extension": ".py",
   "mimetype": "text/x-python",
   "name": "python",
   "nbconvert_exporter": "python",
   "pygments_lexer": "ipython3",
   "version": "3.7.3"
  }
 },
 "nbformat": 4,
 "nbformat_minor": 2
}
