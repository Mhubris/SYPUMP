{
 "cells": [
  {
   "cell_type": "code",
   "execution_count": 29,
   "metadata": {},
   "outputs": [
    {
     "name": "stdout",
     "output_type": "stream",
     "text": [
      "['4 & 15 & 3 & 472.02429620186643 & 20.5', '18 & 10 & 14 & 3094.468763785946 & 35.0', '11 & 12 & 15 & 1904.590546238812 & 30.5', '13 & 16 & 10 & 2324.7785636564467 & 34.0', '8 & 4 & 19 & 1163.174679991621 & 21.5', '3 & 14 & 14 & 578.0530482605219 & 24.0', '6 & 5 & 2 & 342.4335992412874 & 12.0', '6 & 5 & 11 & 603.9711876526377 & 16.5', '8 & 10 & 34 & 2466.1502330679878 & 35.0', '14 & 13 & 3 & 1898.3073609316325 & 28.5']\n"
     ]
    }
   ],
   "source": [
    "# Coxial electrode and interdigital generator\n",
    "from math import pi\n",
    "from random import randrange\n",
    "\n",
    "\n",
    "Et = []\n",
    "Det= []\n",
    "Eg = []\n",
    "# Functions declarations\n",
    "def compute_rt(Et, Det, Eg):\n",
    "    return Et+Det+Eg/2\n",
    "\n",
    "def compute_area(Et , Det, Eg):\n",
    "    rt = compute_rt(Et , Det, Eg)\n",
    "    return pi*(2*rt*Et - Et**2 + Eg**2/4)\n",
    "\n",
    "# Parameters units have to be mm\n",
    "def check_electrode(Et , Det, Eg):\n",
    "    rt = compute_rt(Et , Det, Eg)\n",
    "    At = compute_area(Et , Det, Eg)\n",
    "    \n",
    "    if rt<=35 and rt>=10 and Det>=4 and Eg>=2 and Et>=2:\n",
    "#         Now check if electrode has repeated values\n",
    "        if \n",
    "        return True\n",
    "    return False\n",
    "\n",
    "# This method generate a single eletrode\n",
    "def generate_coaxial_eletrode():\n",
    "    Et = round(randrange(350)/10)\n",
    "    Det = round(randrange(350)/10)\n",
    "    Eg = round(randrange(350)/10)\n",
    "    At = compute_area(Et , Det, Eg)\n",
    "    rt = compute_rt(Et , Det, Eg)\n",
    "    \n",
    "# The string returned have this shape becouse of latex table\n",
    "    if check_electrode(Et , Det, Eg):\n",
    "        return str(Et)+\" & \"+ str(Det)+\" & \"+ str(Eg) +\" & \"+ str(At) +  \" & \"+str(rt);\n",
    "    else:\n",
    "        return generate_coaxial_eletrode()\n",
    "\n",
    "    \n",
    "def list_of_eletrodes( number = 10):\n",
    "    eletrode_list = []\n",
    "    while(len(eletrode_list)<10):\n",
    "        eletrode_list.append(generate_coaxial_eletrode())\n",
    "    return eletrode_list\n",
    "\n",
    "print(list_of_eletrodes())"
   ]
  }
 ],
 "metadata": {
  "kernelspec": {
   "display_name": "Python 3",
   "language": "python",
   "name": "python3"
  },
  "language_info": {
   "codemirror_mode": {
    "name": "ipython",
    "version": 3
   },
   "file_extension": ".py",
   "mimetype": "text/x-python",
   "name": "python",
   "nbconvert_exporter": "python",
   "pygments_lexer": "ipython3",
   "version": "3.7.3"
  }
 },
 "nbformat": 4,
 "nbformat_minor": 2
}
