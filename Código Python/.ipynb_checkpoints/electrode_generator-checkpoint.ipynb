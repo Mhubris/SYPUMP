{
 "cells": [
  {
   "cell_type": "code",
   "execution_count": 26,
   "metadata": {},
   "outputs": [
    {
     "name": "stdout",
     "output_type": "stream",
     "text": [
      "['6.8&6.5&8.2&650.969413750341&17.4', '0.7&25.6&4.4&139.01547492134836&28.5', '20.0&4.6&11.7&2677.3359452239274&30.450000000000003', '1.0&23.4&3.8&173.44733040469245&26.299999999999997', '20.3&8.0&6.1&2733.2562944578262&31.35', '14.1&4.7&24.1&2564.6784326661978&30.85', '16.8&10.9&5.9&2375.994377891595&30.650000000000002', '10.9&5.3&1.5&789.3644241226053&16.95', '10.2&12.9&3.0&1256.7941410685967&24.6', '8.2&8.2&32.5&2300.5333223523676&32.65']\n"
     ]
    }
   ],
   "source": [
    "# Coxial electrode and interdigital generator\n",
    "from math import pi\n",
    "from random import randrange\n",
    "\n",
    "# Functions declarations\n",
    "def compute_rt(Et, Det, Eg):\n",
    "    return Et+Det+Eg/2\n",
    "\n",
    "def compute_area(Et , Det, Eg):\n",
    "    rt = compute_rt(Et , Det, Eg)\n",
    "    return pi*(2*rt*Et - Et**2 + Eg**2/4)\n",
    "\n",
    "# Parameters units have to be mm\n",
    "def check_electrode(Et , Det, Eg):\n",
    "    rt = compute_rt(Et , Det, Eg)\n",
    "    At = compute_area(Et , Det, Eg)\n",
    "    \n",
    "    if rt<=35 and rt>=10 and Det>=4:\n",
    "        return True\n",
    "    return False\n",
    "\n",
    "# This method generate a single eletrode\n",
    "def generate_coaxial_eletrode():\n",
    "    Et = randrange(350)/10\n",
    "    Det = randrange(350)/10\n",
    "    Eg = randrange(350)/10\n",
    "    At = compute_area(Et , Det, Eg)\n",
    "    rt = compute_rt(Et , Det, Eg)\n",
    "    \n",
    "# The string returned have this shape becouse of latex table\n",
    "    if check_electrode(Et , Det, Eg):\n",
    "        return str(Et)+\" & \"+ str(Det)+\" & \"+ str(Eg) +\" & \"+ str(At) +  \" & \"+str(rt);\n",
    "    else:\n",
    "        return generate_coaxial_eletrode()\n",
    "\n",
    "    \n",
    "def list_of_eletrodes( number = 10):\n",
    "    eletrode_list = []\n",
    "    while(len(eletrode_list)<10):\n",
    "        eletrode_list.append(generate_coaxial_eletrode())\n",
    "    return eletrode_list\n",
    "\n",
    "print(list_of_eletrodes())"
   ]
  }
 ],
 "metadata": {
  "kernelspec": {
   "display_name": "Python 3",
   "language": "python",
   "name": "python3"
  },
  "language_info": {
   "codemirror_mode": {
    "name": "ipython",
    "version": 3
   },
   "file_extension": ".py",
   "mimetype": "text/x-python",
   "name": "python",
   "nbconvert_exporter": "python",
   "pygments_lexer": "ipython3",
   "version": "3.7.3"
  }
 },
 "nbformat": 4,
 "nbformat_minor": 2
}
