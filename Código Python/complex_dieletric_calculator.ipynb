{
 "cells": [
  {
   "cell_type": "code",
   "execution_count": 22,
   "metadata": {},
   "outputs": [],
   "source": [
    "# Imports\n",
    "from matplotlib import pyplot as plt\n",
    "from math import e, pi\n",
    "import numpy"
   ]
  },
  {
   "cell_type": "code",
   "execution_count": 23,
   "metadata": {},
   "outputs": [],
   "source": [
    "# Define Constants\n",
    "bandwidth_freq = list(range(1000,100000000,100))\n",
    "vaccum_permittivity = 8.85E-12\n",
    "\n",
    "sc_data = {\"epsilon_inf\": 4.4093, \"sigma_dc\": 0.188, \"delta_epsilon_1\": 40.6,\n",
    "          \"tau_1\": 35, \"alfa_1\": 0, \"delta_epsilon_2\": 195, \"tau_2\": 2.58,\n",
    "           \"alfa_2\":0, \"order\": 2}\n",
    "ed_data = {\"epsilon_inf\": 4, \"sigma_dc\": 0.7, \"delta_epsilon_1\": 56,\n",
    "          \"tau_1\": 8.38, \"alfa_1\": 0.1, \"delta_epsilon_2\": 5200, \"tau_2\": 132.6,\n",
    "           \"alfa_2\":0.1, \"order\": 2}\n",
    "hyp_data = {\"epsilon_inf\": 2.5, \"sigma_dc\": 0.035, \"delta_epsilon_1\": 9,\n",
    "          \"tau_1\": 79.6, \"alfa_1\": 0.2, \"delta_epsilon_2\": 35, \"tau_2\": 15.92,\n",
    "           \"alfa_2\":0.1, \"delta_epsilon_3\":33000, \"tau_3\":159, \"alfa_3\":0.05, \"delta_epsilon_4\": 10^7\n",
    "            , \"tau_4\": 15.9, \"alfa_4\":0.01 , \"order\": 4}"
   ]
  },
  {
   "cell_type": "code",
   "execution_count": 24,
   "metadata": {},
   "outputs": [],
   "source": [
    "def sc_complex_permitivity(freq = 100):\n",
    "    sum_permitivity = sc_data[\"epsilon_inf\"]\n",
    "    for x in range(1,sc_data[\"order\"]+1):\n",
    "        sum_permitivity+=sc_data[\"delta_epsilon_\"+str(x)]/(1+(freq*sc_data[\"tau_\"+str(x)])*1j)\n",
    "    sum_permitivity+=sc_data[\"sigma_dc\"]/(freq*vaccum_permittivity*1j)\n",
    "    return sum_permitivity"
   ]
  },
  {
   "cell_type": "code",
   "execution_count": 25,
   "metadata": {},
   "outputs": [],
   "source": [
    "def ed_complex_permitivity(freq = 100):\n",
    "    sum_permitivity = ed_data[\"epsilon_inf\"]\n",
    "    for x in range(1,ed_data[\"order\"]+1):\n",
    "        sum_permitivity+=ed_data[\"delta_epsilon_\"+str(x)]/(1+(freq*ed_data[\"tau_\"+str(x)])*1j)\n",
    "    sum_permitivity+=ed_data[\"sigma_dc\"]/(freq*vaccum_permittivity*1j)\n",
    "    return sum_permitivity"
   ]
  },
  {
   "cell_type": "code",
   "execution_count": 26,
   "metadata": {},
   "outputs": [],
   "source": [
    "def hyp_complex_permitivity(freq = 100):\n",
    "    sum_permitivity = hyp_data[\"epsilon_inf\"]\n",
    "    for x in range(1,hyp_data[\"order\"]+1):\n",
    "        sum_permitivity+=hyp_data[\"delta_epsilon_\"+str(x)]/(1+(freq*hyp_data[\"tau_\"+str(x)])*1j)\n",
    "    sum_permitivity+=hyp_data[\"sigma_dc\"]/(freq*vaccum_permittivity*1j)\n",
    "    return sum_permitivity"
   ]
  },
  {
   "cell_type": "code",
   "execution_count": 27,
   "metadata": {},
   "outputs": [
    {
     "data": {
      "image/png": "[encoded data removed]",
      "text/plain": [
       "<Figure size 432x288 with 1 Axes>"
      ]
     },
     "metadata": {},
     "output_type": "display_data"
    }
   ],
   "source": [
    "plt.loglog(bandwidth_freq,[sc_complex_permitivity(i*2*pi).real for i in bandwidth_freq], basex=10, basey=10)\n",
    "plt.grid()\n",
    "plt.show()"
   ]
  },
  {
   "cell_type": "code",
   "execution_count": 28,
   "metadata": {},
   "outputs": [
    {
     "name": "stdout",
     "output_type": "stream",
     "text": [
      "(4.409300000245584-61471.24686054075j)\n",
      "(4.000000000009154-228882.30144627715j)\n",
      "(2.5000000000125295-11444.115675312656j)\n"
     ]
    }
   ],
   "source": [
    "print(sc_complex_permitivity(55000*2*pi))\n",
    "print(ed_complex_permitivity(55000*2*pi))\n",
    "print(hyp_complex_permitivity(55000*2*pi))"
   ]
  },
  {
   "cell_type": "code",
   "execution_count": null,
   "metadata": {},
   "outputs": [],
   "source": [
    "# Dieletric properties of FR4\n",
    "# Calculations based on: Wideband frequency-domain characterization of FR-4 and time-domain causality"
   ]
  }
 ],
 "metadata": {
  "kernelspec": {
   "display_name": "Python 3",
   "language": "python",
   "name": "python3"
  },
  "language_info": {
   "codemirror_mode": {
    "name": "ipython",
    "version": 3
   },
   "file_extension": ".py",
   "mimetype": "text/x-python",
   "name": "python",
   "nbconvert_exporter": "python",
   "pygments_lexer": "ipython3",
   "version": "3.7.3"
  }
 },
 "nbformat": 4,
 "nbformat_minor": 2
}
