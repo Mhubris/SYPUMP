{
 "cells": [
  {
   "cell_type": "code",
   "execution_count": 1,
   "metadata": {},
   "outputs": [
    {
     "name": "stdout",
     "output_type": "stream",
     "text": [
      "['2 & 10 & 5 & 189.28095737878505 & 14.5', '4 & 10 & 2 & 329.8672286269283 & 15.0', '2 & 6 & 9 & 208.1305133003238 & 12.5', '4 & 2 & 2 & 128.8052987971815 & 7.0', '3 & 11 & 2 & 257.610597594363 & 15.0', '2 & 3 & 20 & 490.0884539600077 & 15.0', '2 & 4 & 20 & 502.6548245743669 & 16.0', '8 & 4 & 4 & 515.221195188726 & 14.0', '2 & 6 & 14 & 329.8672286269283 & 15.0', '8 & 3 & 8 & 603.1857894892403 & 15.0']\n"
     ]
    }
   ],
   "source": [
    "# Coxial electrode and interdigital generator\n",
    "from math import pi\n",
    "from random import randrange\n",
    "\n",
    "\n",
    "Et = []\n",
    "Det= []\n",
    "Eg = []\n",
    "# Functions declarations\n",
    "def compute_rt(Et, Det, Eg):\n",
    "    return Et+Det+Eg/2\n",
    "\n",
    "def compute_area(Et , Det, Eg):\n",
    "    rt = compute_rt(Et , Det, Eg)\n",
    "    return pi*(2*rt*Et - Et**2 + Eg**2/4)\n",
    "\n",
    "# Parameters units have to be mm\n",
    "def check_electrode(Et , Det, Eg):\n",
    "    rt = compute_rt(Et , Det, Eg)\n",
    "    At = compute_area(Et , Det, Eg)\n",
    "    \n",
    "    if rt<=16 and rt>=4 and Det>=2 and Eg>=1.5 and Et>=1.5:\n",
    "#         Now check if electrode has repeated values\n",
    "        return True\n",
    "    return False\n",
    "\n",
    "# This method generate a single eletrode\n",
    "def generate_coaxial_eletrode(comsol = False):\n",
    "    Et = round(randrange(320)/10)\n",
    "    Det = round(randrange(320)/10)\n",
    "    Eg = round(randrange(320)/10)\n",
    "    At = compute_area(Et , Det, Eg)\n",
    "    rt = compute_rt(Et , Det, Eg)\n",
    "    \n",
    "# The string returned have this shape becouse of latex table\n",
    "    if check_electrode(Et , Det, Eg):\n",
    "        if comsol:\n",
    "            return str(rt) + \" | \" + str(Eg/2) + \" | \"+ str(Eg/2+Det)\n",
    "        else:\n",
    "            return str(Et)+\" & \"+ str(Det)+\" & \"+ str(Eg) +\" & \"+ str(At) +  \" & \"+str(rt)\n",
    "    else:\n",
    "        return generate_coaxial_eletrode(comsol)\n",
    "\n",
    "    \n",
    "def list_of_eletrodes(number = 10 ):\n",
    "    eletrode_list = []\n",
    "    while(len(eletrode_list)<10):\n",
    "        eletrode_list.append(generate_coaxial_eletrode())\n",
    "    return eletrode_list\n",
    "\n",
    "print(list_of_eletrodes())"
   ]
  },
  {
   "cell_type": "code",
   "execution_count": 18,
   "metadata": {},
   "outputs": [
    {
     "name": "stdout",
     "output_type": "stream",
     "text": [
      "{'Copper_or': 14.5, 'Copper_m': 12.5, 'Copper_in': 2.5}\n"
     ]
    }
   ],
   "source": [
    "# Enter table row latex like \"Et & Det & Eg\"\n",
    "def comsol_entries(str = \"2 & 10 & 5 & 189.28 & 14.5\"):\n",
    "    aux = str.replace(\" \",\"\")\n",
    "    aux = aux.split(\"&\")\n",
    "    Et= float(aux[0])\n",
    "    Det = float(aux[1])\n",
    "    Eg = float(aux[2])\n",
    "    copper_or= Et + Det + Eg/2\n",
    "    copper_m = copper_or - Et\n",
    "    return {\"Copper_or\":copper_or, \"Copper_m\":copper_m, \"Copper_in\":Eg/2}\n",
    "    \n",
    "print(comsol_entries())"
   ]
  },
  {
   "cell_type": "code",
   "execution_count": null,
   "metadata": {},
   "outputs": [],
   "source": [
    "# Interdigital Eletrode generator\n",
    "def generate_interdigital_eletrode(comsol = False):\n",
    "    Et = round(randrange(320)/10)\n",
    "    Det = round(randrange(320)/10)\n",
    "    Eg = round(randrange(320)/10)\n",
    "    At = compute_area(Et , Det, Eg)\n",
    "    rt = compute_rt(Et , Det, Eg)\n",
    "    if check_electrode(Et , Det, Eg):\n",
    "        if comsol:\n",
    "            return str(rt) + \" | \" + str(Eg/2) + \" | \"+ str(Eg/2+Det)\n",
    "        else:\n",
    "            return str(Et)+\" & \"+ str(Det)+\" & \"+ str(Eg) +\" & \"+ str(At) +  \" & \"+str(rt)\n",
    "    else:\n",
    "        return generate_interdigital_eletrode()\n"
   ]
  }
 ],
 "metadata": {
  "kernelspec": {
   "display_name": "Python 3",
   "language": "python",
   "name": "python3"
  },
  "language_info": {
   "codemirror_mode": {
    "name": "ipython",
    "version": 3
   },
   "file_extension": ".py",
   "mimetype": "text/x-python",
   "name": "python",
   "nbconvert_exporter": "python",
   "pygments_lexer": "ipython3",
   "version": "3.7.3"
  }
 },
 "nbformat": 4,
 "nbformat_minor": 2
}
